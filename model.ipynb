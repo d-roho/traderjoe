{
  "cells": [
    {
      "cell_type": "markdown",
      "metadata": {
        "id": "Gfq9BVS6TfFZ"
      },
      "source": [
        "# Optimal Trader Joe's Grocery List"
      ]
    },
    {
      "cell_type": "code",
      "execution_count": null,
      "metadata": {
        "id": "FD1V5idhTfFa"
      },
      "outputs": [],
      "source": [
        "pip install pulp --quiet"
      ]
    },
    {
      "cell_type": "code",
      "execution_count": null,
      "metadata": {
        "id": "7_Oe2VZETfFb"
      },
      "outputs": [],
      "source": [
        "import pandas as pd\n",
        "from pulp import LpProblem, LpVariable, LpMinimize, lpSum, LpStatus"
      ]
    },
    {
      "cell_type": "markdown",
      "metadata": {
        "id": "Cw1oG7u3TfFb"
      },
      "source": [
        "## Loading Data"
      ]
    },
    {
      "cell_type": "code",
      "execution_count": null,
      "metadata": {
        "id": "NOlPvxQQTfFb"
      },
      "outputs": [],
      "source": [
        "data = pd.read_csv('nutrition_prices.csv')\n",
        "data"
      ]
    },
    {
      "cell_type": "code",
      "execution_count": null,
      "metadata": {
        "id": "-WpDVyU9TfFb"
      },
      "outputs": [],
      "source": [
        "data.info()"
      ]
    },
    {
      "cell_type": "markdown",
      "metadata": {
        "id": "8W4ELbm5TfFb"
      },
      "source": [
        "## Cleaning Data"
      ]
    },
    {
      "cell_type": "code",
      "execution_count": null,
      "metadata": {
        "id": "dB6QaV-JTfFb"
      },
      "outputs": [],
      "source": [
        "columns_to_drop = ['Unnamed: 0.1', 'Unnamed: 0']\n",
        "nutrition_data_cleaned = data.drop(columns=columns_to_drop)"
      ]
    },
    {
      "cell_type": "code",
      "execution_count": null,
      "metadata": {
        "id": "QlCrOB7hTfFb"
      },
      "outputs": [],
      "source": [
        "numeric_columns = ['dietary_fiber', 'sugars', 'potassium']\n",
        "for col in numeric_columns:\n",
        "    nutrition_data_cleaned[col] = pd.to_numeric(nutrition_data_cleaned[col], errors='coerce')\n",
        "\n",
        "# nutrition_data_cleaned = nutrition_data_cleaned.drop_duplicates(['item']) ## Drop Dups"
      ]
    },
    {
      "cell_type": "code",
      "execution_count": null,
      "metadata": {
        "id": "lb8GioGCTfFc"
      },
      "outputs": [],
      "source": [
        "critical_columns = ['calories', 'protein', 'retail_price', 'calcium', 'iron', 'potassium']\n",
        "nutrition_data_cleaned = nutrition_data_cleaned.dropna(subset=critical_columns)"
      ]
    },
    {
      "cell_type": "code",
      "execution_count": null,
      "metadata": {
        "id": "QIbHmkdwTfFc"
      },
      "outputs": [],
      "source": [
        "nutrition_data_cleaned.info()"
      ]
    },
    {
      "cell_type": "code",
      "execution_count": null,
      "metadata": {
        "id": "cNyg-kkkTfFc"
      },
      "outputs": [],
      "source": [
        "columns_to_check = ['total_fat', 'total_carbohydrates', 'vitamin_d', 'sodium', 'dietary_fiber', 'sugars']\n",
        "for col in columns_to_check:\n",
        "    nutrition_data_cleaned[col].fillna(0, inplace=True)"
      ]
    },
    {
      "cell_type": "code",
      "execution_count": null,
      "metadata": {
        "id": "ru33yt0OTfFc"
      },
      "outputs": [],
      "source": [
        "nutrition_data_cleaned = nutrition_data_cleaned[\n",
        "    (nutrition_data_cleaned['calories'] > 0) &\n",
        "    (nutrition_data_cleaned['protein'] > 0) &\n",
        "    (nutrition_data_cleaned['retail_price'] > 0)\n",
        "]"
      ]
    },
    {
      "cell_type": "code",
      "execution_count": null,
      "metadata": {
        "id": "n33b1P-TTfFc"
      },
      "outputs": [],
      "source": [
        "nutrition_data_cleaned"
      ]
    },
    {
      "cell_type": "markdown",
      "metadata": {
        "id": "l0gbs0sOTfFc"
      },
      "source": [
        "## Optimization Model"
      ]
    },
    {
      "cell_type": "markdown",
      "metadata": {
        "id": "MYWu4P6iTfFc"
      },
      "source": [
        "#### Model"
      ]
    },
    {
      "cell_type": "code",
      "execution_count": null,
      "metadata": {
        "id": "0CSIaLoETfFc"
      },
      "outputs": [],
      "source": [
        "model = LpProblem(\"Optimal_Grocery_List\", LpMinimize)"
      ]
    },
    {
      "cell_type": "markdown",
      "metadata": {
        "id": "9wX06KVXTfFc"
      },
      "source": [
        "#### Binary Decision Variables"
      ]
    },
    {
      "cell_type": "code",
      "execution_count": null,
      "metadata": {
        "id": "BiSEF30dTfFc"
      },
      "outputs": [],
      "source": [
        "x = {i: LpVariable(f\"x_{i}\", cat=\"Binary\") for i in nutrition_data_cleaned.index}"
      ]
    },
    {
      "cell_type": "markdown",
      "metadata": {
        "id": "6aMA0Z10TfFd"
      },
      "source": [
        "#### Objective Function to Minimize Cost"
      ]
    },
    {
      "cell_type": "code",
      "execution_count": null,
      "metadata": {
        "id": "WhYKwIjpTfFd"
      },
      "outputs": [],
      "source": [
        "model += lpSum(nutrition_data_cleaned.loc[i, 'retail_price'] * x[i] for i in nutrition_data_cleaned.index), \"Total Cost\""
      ]
    },
    {
      "cell_type": "markdown",
      "metadata": {
        "id": "Kvu3DgSdTfFd"
      },
      "source": [
        "#### Constraints"
      ]
    },
    {
      "cell_type": "code",
      "execution_count": null,
      "metadata": {
        "id": "XhzL8JtkTfFd"
      },
      "outputs": [],
      "source": [
        "constraints = {\n",
        "    \"calories\": 2200,\n",
        "    \"protein\": 60,\n",
        "    \"fat_max\": 80,\n",
        "    \"carbohydrate\": 250,\n",
        "    \"sodium_max\": 3000,\n",
        "    \"fiber\": 20,\n",
        "    \"sugar_max\": 60,\n",
        "    \"cholesterol_max\": 300,\n",
        "    \"saturated_fat_max\": 20,\n",
        "    \"vitamin_d\": 10,\n",
        "    \"budget\": 250\n",
        "}"
      ]
    },
    {
      "cell_type": "code",
      "execution_count": null,
      "metadata": {
        "id": "lF-UIACbTfFd"
      },
      "outputs": [],
      "source": [
        "# Constraint 1: Calories\n",
        "model += lpSum(nutrition_data_cleaned.loc[i, 'calories'] * x[i] for i in nutrition_data_cleaned.index) >= constraints[\"calories\"], \"Calorie_Constraint\"\n",
        "# Constraint 2: Protein\n",
        "model += lpSum(nutrition_data_cleaned.loc[i, 'protein'] * x[i] for i in nutrition_data_cleaned.index) >= constraints[\"protein\"], \"Protein_Constraint\"\n",
        "# Constraint 3: Fat\n",
        "model += lpSum(nutrition_data_cleaned.loc[i, 'total_fat'] * x[i] for i in nutrition_data_cleaned.index) <= constraints[\"fat_max\"], \"Fat_Constraint\"\n",
        "# Constraint 4: Carbohydrates\n",
        "model += lpSum(nutrition_data_cleaned.loc[i, 'total_carbohydrates'] * x[i] for i in nutrition_data_cleaned.index) >= constraints[\"carbohydrate\"], \"Carbohydrate_Constraint\"\n",
        "# Constraint 5: Sodium\n",
        "model += lpSum(nutrition_data_cleaned.loc[i, 'sodium'] * x[i] for i in nutrition_data_cleaned.index) <= constraints[\"sodium_max\"], \"Sodium_Constraint\"\n",
        "# Constraint 6: Fiber\n",
        "model += lpSum(nutrition_data_cleaned.loc[i, 'dietary_fiber'] * x[i] for i in nutrition_data_cleaned.index) >= constraints[\"fiber\"], \"Fiber_Constraint\"\n",
        "# Constraint 7: Sugar\n",
        "model += lpSum(nutrition_data_cleaned.loc[i, 'sugars'] * x[i] for i in nutrition_data_cleaned.index) <= constraints[\"sugar_max\"], \"Sugar_Constraint\"\n",
        "# Constraint 8: Cholesterol\n",
        "model += lpSum(nutrition_data_cleaned.loc[i, 'cholesterol'] * x[i] for i in nutrition_data_cleaned.index) <= constraints[\"cholesterol_max\"], \"Cholesterol_Constraint\"\n",
        "# Constraint 9: Saturated Fat\n",
        "model += lpSum(nutrition_data_cleaned.loc[i, 'saturated_fat'] * x[i] for i in nutrition_data_cleaned.index) <= constraints[\"saturated_fat_max\"], \"Saturated_Fat_Constraint\"\n",
        "# Constraint 10: Vitamin D\n",
        "model += lpSum(nutrition_data_cleaned.loc[i, 'vitamin_d'] * x[i] for i in nutrition_data_cleaned.index) >= constraints[\"vitamin_d\"], \"Vitamin_D_Constraint\"\n",
        "# Constraint 11: Budget\n",
        "model += lpSum(nutrition_data_cleaned.loc[i, 'retail_price'] * x[i] for i in nutrition_data_cleaned.index) <= constraints[\"budget\"], \"Budget_Constraint\""
      ]
    },
    {
      "cell_type": "markdown",
      "metadata": {
        "id": "NNzTZ8MrTfFd"
      },
      "source": [
        "#### Model Solver"
      ]
    },
    {
      "cell_type": "code",
      "execution_count": null,
      "metadata": {
        "id": "f8HnLt1HTfFd"
      },
      "outputs": [],
      "source": [
        "model.solve()\n",
        "print(\"Model Status:\", LpStatus[model.status])"
      ]
    },
    {
      "cell_type": "code",
      "execution_count": null,
      "metadata": {
        "id": "oj2VPo87TfFd"
      },
      "outputs": [],
      "source": [
        "selected_items = [nutrition_data_cleaned.loc[i, 'item_title'] for i in nutrition_data_cleaned.index if x[i].value() == 1]\n",
        "print(\"Selected Items:\")\n",
        "for item in selected_items:\n",
        "    print(item)"
      ]
    },
    {
      "cell_type": "code",
      "execution_count": null,
      "metadata": {
        "id": "_gBxfoCfTfFd"
      },
      "outputs": [],
      "source": [
        "total_cost = sum(nutrition_data_cleaned.loc[i, 'retail_price'] for i in nutrition_data_cleaned.index if x[i].value() == 1)\n",
        "print(f\"Total Cost: ${total_cost:.2f}\")"
      ]
    },
    {
      "cell_type": "markdown",
      "source": [
        "Top K Solutions (Solution Pool)"
      ],
      "metadata": {
        "id": "KZNGp6v0XVqG"
      }
    },
    {
      "cell_type": "code",
      "source": [
        "# A file called grocery_list.txt is created/overwritten for writing to\n",
        "import os\n",
        "\n",
        "grocery_lists = open('grocery_lists.txt','w')\n",
        "iter = 0\n",
        "K = 5 # fetch top K solutions\n",
        "while True:\n",
        "    model.solve()\n",
        "    # The solution is printed if it was deemed \"optimal\" i.e met the constraints\n",
        "    if LpStatus[model.status] == \"Optimal\":\n",
        "        # Gather info to save\n",
        "        selected_items = [nutrition_data_cleaned.loc[i, 'item_title'] for i in nutrition_data_cleaned.index if x[i].value() == 1]\n",
        "        if iter == 0:\n",
        "          optimal_item_list = selected_items # store the optimal grocery list to compare alternatives with\n",
        "        total_cost = sum(nutrition_data_cleaned.loc[i, 'retail_price'] for i in nutrition_data_cleaned.index if x[i].value() == 1)\n",
        "        # Macros\n",
        "        Calories = sum(nutrition_data_cleaned.loc[i, 'calories'] for i in nutrition_data_cleaned.index if x[i].value() == 1)\n",
        "        Protein = sum(nutrition_data_cleaned.loc[i, 'protein'] for i in nutrition_data_cleaned.index if x[i].value() == 1)\n",
        "        Fat = sum(nutrition_data_cleaned.loc[i, 'total_fat'] for i in nutrition_data_cleaned.index if x[i].value() == 1)\n",
        "        Carbohydrates = sum(nutrition_data_cleaned.loc[i, 'total_carbohydrates'] for i in nutrition_data_cleaned.index if x[i].value() == 1)\n",
        "        macros = f'MACROS: Calories:{Calories:.0f} | Protein:{Protein:.0f} | Fat:{Fat:.0f} | Carbs:{Carbohydrates:.0f}'\n",
        "        # Write solution to the grocery_lists.txt file\n",
        "        if iter == 0:\n",
        "          title = 'OPTIMAL GROCERY LIST'\n",
        "          optimal_list = f'{title}: Total Cost: ${total_cost:.2f}\\n' + f'{macros} \\n-' + '\\n-'.join(selected_items) + '\\n\\n'\n",
        "\n",
        "        else:\n",
        "          title = f'ALTERNATIVE GROCERY LIST {iter}'\n",
        "          removed_items = list(set(optimal_item_list) - set(selected_items))\n",
        "          added_items = list(set(selected_items) - set(optimal_item_list))\n",
        "          optimal_list = f'{title}: Total Cost: ${total_cost:.2f}\\n' + f'{macros} \\n-' + '\\n-'.join(selected_items) + f'\\nItems removed: {removed_items}'+ f'\\nItems added: {added_items}' + '\\n\\n'\n",
        "\n",
        "        grocery_lists.write(optimal_list)\n",
        "        print(optimal_list)\n",
        "\n",
        "        try: # delete existing constraint if exists\n",
        "          del model.constraints['OptimalSol']\n",
        "        except:\n",
        "          pass\n",
        "        model += lpSum(nutrition_data_cleaned.loc[i, 'retail_price'] * x[i] for i in nutrition_data_cleaned.index) >= total_cost+0.01, f\"OptimalSol\"\n",
        "        iter +=1\n",
        "        if iter >= K: # only get top K\n",
        "          break\n",
        "    # If a new optimal solution cannot be found, we end the program\n",
        "    else:\n",
        "        break\n",
        "\n",
        "grocery_lists.close()\n",
        "\n",
        "# The location of the solutions is give to the user\n",
        "print(\"Solutions Written to grocery_lists.txt\")"
      ],
      "metadata": {
        "id": "bS1_7ipoXYQZ"
      },
      "execution_count": null,
      "outputs": []
    }
  ],
  "metadata": {
    "language_info": {
      "name": "python"
    },
    "colab": {
      "provenance": []
    },
    "kernelspec": {
      "name": "python3",
      "display_name": "Python 3"
    }
  },
  "nbformat": 4,
  "nbformat_minor": 0
}